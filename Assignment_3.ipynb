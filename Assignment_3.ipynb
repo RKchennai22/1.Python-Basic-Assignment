{
 "cells": [
  {
   "cell_type": "markdown",
   "id": "5937a311",
   "metadata": {},
   "source": [
    "# 1.Why are functions advantageous to have in your programs"
   ]
  },
  {
   "cell_type": "markdown",
   "id": "658e91f1",
   "metadata": {},
   "source": [
    "1. It helps to divide the large programs into small groups so that we can read the code, and debug the program faster and better.\n",
    "\n",
    "2. Python Functions stop us from writing the same logic various times. We can bind the logic in one def and then call the same over and over.\n",
    "\n",
    "3. Many persons can work on the same program by assigning different methods to each of them.\n",
    "\n",
    "4. It encourages us to call the same method with different inputs over multiple times."
   ]
  },
  {
   "cell_type": "markdown",
   "id": "b352a016",
   "metadata": {},
   "source": [
    "# 2. When does the code in a function run: when it's specified or when it's called?#"
   ]
  },
  {
   "cell_type": "markdown",
   "id": "b9702db8",
   "metadata": {},
   "source": [
    "Function run when it's called. "
   ]
  },
  {
   "cell_type": "markdown",
   "id": "fec95481",
   "metadata": {},
   "source": [
    "# 3. What statement creates a function?"
   ]
  },
  {
   "cell_type": "markdown",
   "id": "768ec074",
   "metadata": {},
   "source": [
    "Using def we can create statements"
   ]
  },
  {
   "cell_type": "markdown",
   "id": "3b09ce0c",
   "metadata": {},
   "source": [
    "# 4. What is the difference between a function and a function call?"
   ]
  },
  {
   "cell_type": "markdown",
   "id": "33d623b6",
   "metadata": {},
   "source": [
    "Function or function definition is creation or declaring the function, example: what parameters to accept, what actions to perform and what values to return. On the other hand function call is invoking this function to get some required actions/processing done."
   ]
  },
  {
   "cell_type": "markdown",
   "id": "c5acff16",
   "metadata": {},
   "source": [
    "# 5. How many global scopes are there in a Python program? How many local scopes?"
   ]
  },
  {
   "cell_type": "markdown",
   "id": "325e7b54",
   "metadata": {},
   "source": [
    "Local scope includes all variables defined in the current function and global scope includes variable defined outside of the current function. So one global scope and one local scope"
   ]
  },
  {
   "cell_type": "markdown",
   "id": "b50624f9",
   "metadata": {},
   "source": [
    "# 6. What happens to variables in a local scope when the function call returns?"
   ]
  },
  {
   "cell_type": "markdown",
   "id": "e3c8fb68",
   "metadata": {},
   "source": [
    "The local scope variables will be deleted from the memory (local stack) and they will not be available after the function call returns."
   ]
  },
  {
   "cell_type": "markdown",
   "id": "5f5b5f04",
   "metadata": {},
   "source": [
    "# 7. What is the concept of a return value? Is it possible to have a return value in an expression?"
   ]
  },
  {
   "cell_type": "markdown",
   "id": "5ed5251b",
   "metadata": {},
   "source": [
    "A return is a value that a function returns to the calling script or function when it completes its task. A return value can be any one of the four variable types: handle, integer, object, or string. The type of value your function returns depends largely on the task it performs."
   ]
  },
  {
   "cell_type": "markdown",
   "id": "c1df7d08",
   "metadata": {},
   "source": [
    "# 8. If a function does not have a return statement, what is the return value of a call to that function?"
   ]
  },
  {
   "cell_type": "markdown",
   "id": "015896db",
   "metadata": {},
   "source": [
    "If a function does not have a return statement, then the return value of a call to that function is ‘None’ in Python"
   ]
  },
  {
   "cell_type": "markdown",
   "id": "f4863508",
   "metadata": {},
   "source": [
    "# 9. How do you make a function variable refer to the global variable?"
   ]
  },
  {
   "cell_type": "code",
   "execution_count": 14,
   "id": "2c7dfb28",
   "metadata": {},
   "outputs": [
    {
     "name": "stdout",
     "output_type": "stream",
     "text": [
      "50\n",
      "10\n"
     ]
    }
   ],
   "source": [
    "#Ans : We can use a global keyword to assign a variables inside the function. global keyword is not required for outside function.\n",
    "\n",
    "a=50\n",
    "def func():\n",
    "    global a \n",
    "    print(a)\n",
    "    a=10\n",
    "    print(a)\n",
    "\n",
    "func()"
   ]
  },
  {
   "cell_type": "markdown",
   "id": "35c7958a",
   "metadata": {},
   "source": [
    "# 10. What is the data type of None?"
   ]
  },
  {
   "cell_type": "markdown",
   "id": "a65bfd11",
   "metadata": {},
   "source": [
    "The None keyword is used to define a null variable or an object. In Python, None keyword is an object, and it is a data type of the class NoneType."
   ]
  },
  {
   "cell_type": "markdown",
   "id": "1fa30bc5",
   "metadata": {},
   "source": [
    "# 11. What does the sentence import areallyourpetsnamederic do?"
   ]
  },
  {
   "cell_type": "markdown",
   "id": "f903a9a6",
   "metadata": {},
   "source": [
    "That import statement imports a module named areallyourpetsnamederic."
   ]
  },
  {
   "cell_type": "markdown",
   "id": "bc27761f",
   "metadata": {},
   "source": [
    "# 12. If you had a bacon() feature in a spam module, what would you call it after importing spam?"
   ]
  },
  {
   "cell_type": "markdown",
   "id": "b597ba49",
   "metadata": {},
   "source": [
    "spam.bacon()"
   ]
  },
  {
   "cell_type": "markdown",
   "id": "43f40586",
   "metadata": {},
   "source": [
    "# 13. What can you do to save a programme from crashing if it encounters an error?"
   ]
  },
  {
   "cell_type": "markdown",
   "id": "1c4cbb2c",
   "metadata": {},
   "source": [
    "Exception handling should be in place for handling runtime errors if encountered while running a program."
   ]
  },
  {
   "cell_type": "markdown",
   "id": "550b5c7a",
   "metadata": {},
   "source": [
    "# 14. What is the purpose of the try clause? What is the purpose of the except clause?"
   ]
  },
  {
   "cell_type": "markdown",
   "id": "326b2681",
   "metadata": {},
   "source": [
    "The code that could potentially cause an error goes in the try clause. -The code that executes if an error happens goes in the except clause."
   ]
  }
 ],
 "metadata": {
  "kernelspec": {
   "display_name": "Python 3 (ipykernel)",
   "language": "python",
   "name": "python3"
  },
  "language_info": {
   "codemirror_mode": {
    "name": "ipython",
    "version": 3
   },
   "file_extension": ".py",
   "mimetype": "text/x-python",
   "name": "python",
   "nbconvert_exporter": "python",
   "pygments_lexer": "ipython3",
   "version": "3.9.7"
  }
 },
 "nbformat": 4,
 "nbformat_minor": 5
}
