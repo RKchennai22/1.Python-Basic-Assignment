{
 "cells": [
  {
   "cell_type": "markdown",
   "id": "d1868595",
   "metadata": {},
   "source": [
    "# 1. What are escape characters, and how do you use them?"
   ]
  },
  {
   "cell_type": "markdown",
   "id": "c45a9e9c",
   "metadata": {},
   "source": [
    "In Python strings, the backslash \"\\\" is a special character, also called the \"escape\" character. It is used in representing certain whitespace characters: \"\\t\" is a tab, \"\\n\" is a newline, and \"\\r\" is a carriage return"
   ]
  },
  {
   "cell_type": "markdown",
   "id": "04bfea3c",
   "metadata": {},
   "source": [
    "# 2. What do the escape characters n and t stand for?"
   ]
  },
  {
   "cell_type": "markdown",
   "id": "86c7abd7",
   "metadata": {},
   "source": [
    "Ans : \"\\t\" is for tab space, `\"\\n\"` is for a newline"
   ]
  },
  {
   "cell_type": "markdown",
   "id": "faaebc09",
   "metadata": {},
   "source": [
    "# 3. What is the way to include backslash characters in a string?"
   ]
  },
  {
   "cell_type": "markdown",
   "id": "46477646",
   "metadata": {},
   "source": [
    "Ans : \\\\ escape character will represent a backslash character"
   ]
  },
  {
   "cell_type": "markdown",
   "id": "53ac7f6c",
   "metadata": {},
   "source": [
    "# 4. The string \"Howl's Moving Castle\" is a correct value. Why isn't the single quote character in the word Howl's not escaped a problem?"
   ]
  },
  {
   "cell_type": "markdown",
   "id": "13f0655b",
   "metadata": {},
   "source": [
    "Ans : The single quote in Howl's is fine because you’ve used double quotes to mark the beginning and end of the string."
   ]
  },
  {
   "cell_type": "markdown",
   "id": "c2d60cd0",
   "metadata": {},
   "source": [
    "# 5. How do you write a string of newlines if you don't want to use the n character?"
   ]
  },
  {
   "cell_type": "markdown",
   "id": "b43e91e5",
   "metadata": {},
   "source": [
    "Ans : To write a string of newlines without using the new line character, we can use Pythons multi line strings which are placed inside triple quotes"
   ]
  },
  {
   "cell_type": "markdown",
   "id": "5ce680b5",
   "metadata": {},
   "source": [
    "# 6. What are the values of the given expressions?"
   ]
  },
  {
   "cell_type": "code",
   "execution_count": null,
   "id": "f5c58319",
   "metadata": {},
   "outputs": [],
   "source": [
    "'Hello, world!'[1] ----> Ans : e\n",
    "'Hello, world!'[0:5] --->Ans : Hello\n",
    "'Hello, world!'[:5]------>Ans : Hello\n",
    "'Hello, world!'[3:]------>Ans : lo,world"
   ]
  },
  {
   "cell_type": "markdown",
   "id": "94127302",
   "metadata": {},
   "source": [
    "# 7. What are the values of the following expressions?"
   ]
  },
  {
   "cell_type": "code",
   "execution_count": null,
   "id": "96bba940",
   "metadata": {},
   "outputs": [],
   "source": [
    "'Hello'.upper() -------------> Ans : HELLO\n",
    "'Hello'.upper().isupper()----->Ans : True\n",
    "'Hello'.upper().lower()-------> Ans : Hello\n"
   ]
  },
  {
   "cell_type": "markdown",
   "id": "120bd51b",
   "metadata": {},
   "source": [
    "# 8. What are the values of the following expressions?"
   ]
  },
  {
   "cell_type": "code",
   "execution_count": null,
   "id": "97ab6efe",
   "metadata": {},
   "outputs": [],
   "source": [
    "'Remember, remember, the fifth of July.'.split() ---> Ans : ['Remember,', 'remember,', 'the', 'fifth', 'of', 'July.']\n",
    "'-'.join('There can only one.'.split())--------------> Ans : 'There-can-only-one.'\n"
   ]
  }
 ],
 "metadata": {
  "kernelspec": {
   "display_name": "Python 3 (ipykernel)",
   "language": "python",
   "name": "python3"
  },
  "language_info": {
   "codemirror_mode": {
    "name": "ipython",
    "version": 3
   },
   "file_extension": ".py",
   "mimetype": "text/x-python",
   "name": "python",
   "nbconvert_exporter": "python",
   "pygments_lexer": "ipython3",
   "version": "3.9.7"
  }
 },
 "nbformat": 4,
 "nbformat_minor": 5
}
