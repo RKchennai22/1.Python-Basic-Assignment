{
 "cells": [
  {
   "cell_type": "markdown",
   "id": "c384f84c",
   "metadata": {},
   "source": [
    "# 1. In the below elements which of them are values or an expression? eg:- values can be integer or string and expressions will be mathematical operators.\n",
    "* \n",
    "'hello'\n",
    "-87.8\n",
    "- \n",
    "/ \n",
    "+\t\n",
    "6 \n",
    "\n",
    "\n",
    "Answer :\n",
    "\n",
    "Values = 'hello' -87.8 6\n",
    "\n",
    "Expression :\n",
    "*\n",
    "-\n",
    "/\n",
    "+"
   ]
  },
  {
   "cell_type": "markdown",
   "id": "0a6e83c0",
   "metadata": {},
   "source": [
    "# 2. What is the difference between string and variable?\n",
    "\n",
    "String is a one of the datatype sequence of character. Strings are immutable, means that once defined, they cannot be changed.\n",
    "variable is  something that holds a value that may change."
   ]
  },
  {
   "cell_type": "markdown",
   "id": "bb83fa3d",
   "metadata": {},
   "source": [
    "# 3. Describe three different data types.\n",
    "\n",
    "Numeric:\n",
    "\n",
    " Numeric data type represent the data which has numeric value.Numeric value can be integer , floating or even complex number.\n",
    "\n",
    "Boolean : \n",
    "\n",
    "   Boolean data type represnt two values .True and False.\n",
    "   \n",
    "Dictionary :\n",
    "\n",
    "   This is an unordered collection of data values. This store values in the form of keys and values. "
   ]
  },
  {
   "cell_type": "markdown",
   "id": "458596a5",
   "metadata": {},
   "source": [
    "# 4. What is an expression made up of? What do all expressions do?\n",
    "\n",
    "An expression is combination of operator, constant and variable.A expression may consist of one or more operator, constant and variable for computation and produce the result according to that.\n",
    "\n",
    "Types of Expression\n",
    "Constant Expression\n",
    "result = 5+5\n",
    "\n",
    "Integral Expression\n",
    "result = x*y\n",
    "\n",
    "Floating Expression\n",
    "result = 10.5+y\n",
    "\n",
    "Relation Expression\n",
    "result = x<=y\n",
    "\n",
    "Logical Expression\n",
    "result = (x>y && x>18)\n",
    "\n",
    "Pointer Expression\n",
    "result = index++\n",
    "\n",
    "Bitwise Expression\n",
    "result = x<<3\n"
   ]
  },
  {
   "cell_type": "markdown",
   "id": "64faa3df",
   "metadata": {},
   "source": [
    "# 5. This assignment statements, like spam = 10. What is the difference between an expression and a statement?\n",
    "\n",
    "Difference between assignment operator \"and\" expression\n",
    "\n",
    "Assigment operator is used for assiging the value to the variable whereas expression is used for computation and similarity check between operands.Calculation is not performed on the assignment operator.This only allocate the memory references whereas in expression calculation is performed first and then assign the result to variable if present.\n"
   ]
  },
  {
   "cell_type": "markdown",
   "id": "c4aa0b58",
   "metadata": {},
   "source": [
    "# 6. After running the following code, what does the variable bacon contain?\n",
    "bacon = 22\n",
    "bacon + 1\n",
    "\n",
    "Answer:\n",
    "bacon contain 22 .bacon+1 is an expression \n"
   ]
  },
  {
   "cell_type": "markdown",
   "id": "217f122c",
   "metadata": {},
   "source": [
    "# 7. What should the values of the following two terms be?\n",
    "'spam' + 'spamspam'\n",
    "'spam' * 3\n",
    "\n",
    "Answer:\n",
    "\n",
    "1. 'spamspamspam' # concat two strings\n",
    "2. 'spamspamspam' # spam*3 is an expression and it will generate spam three times\n"
   ]
  },
  {
   "cell_type": "markdown",
   "id": "687617c4",
   "metadata": {},
   "source": [
    "# 8.Why is eggs a valid variable name while 100 is invalid?\n",
    "\n",
    "Answer :\n",
    "variable name does not startswith an integar ,so 100 is invalid "
   ]
  },
  {
   "cell_type": "markdown",
   "id": "83c0f333",
   "metadata": {},
   "source": [
    "# 9. What three functions can be used to get the integer, floating-point number, or string version of a value?\n",
    "\n",
    "Answer :\n",
    "\n",
    "1. int() # to get an integer value\n",
    "2. float() # to get float value\n",
    "3. str() # to get string version\n"
   ]
  },
  {
   "cell_type": "markdown",
   "id": "fcb8be02",
   "metadata": {},
   "source": [
    "# 10. Why does this expression cause an error? How can you fix it?\n",
    "'I have eaten ' + 99 + ' burritos.'\n",
    "\n",
    "\n",
    "Answer :\n",
    "\n",
    "99 is an integer . we cannot concat integer and string value . Need to convert the type of integer to string "
   ]
  },
  {
   "cell_type": "code",
   "execution_count": 5,
   "id": "dc38fe00",
   "metadata": {},
   "outputs": [
    {
     "data": {
      "text/plain": [
       "'I have eaten 99 burritos.'"
      ]
     },
     "execution_count": 5,
     "metadata": {},
     "output_type": "execute_result"
    }
   ],
   "source": [
    "'I have eaten ' + \"99\" + ' burritos.'"
   ]
  },
  {
   "cell_type": "code",
   "execution_count": 6,
   "id": "6737e73f",
   "metadata": {},
   "outputs": [
    {
     "data": {
      "text/plain": [
       "'I have eaten 99 burritos.'"
      ]
     },
     "execution_count": 6,
     "metadata": {},
     "output_type": "execute_result"
    }
   ],
   "source": [
    "'I have eaten ' + str(99) + ' burritos.'"
   ]
  },
  {
   "cell_type": "code",
   "execution_count": null,
   "id": "c21603ff",
   "metadata": {},
   "outputs": [],
   "source": []
  }
 ],
 "metadata": {
  "kernelspec": {
   "display_name": "Python 3 (ipykernel)",
   "language": "python",
   "name": "python3"
  },
  "language_info": {
   "codemirror_mode": {
    "name": "ipython",
    "version": 3
   },
   "file_extension": ".py",
   "mimetype": "text/x-python",
   "name": "python",
   "nbconvert_exporter": "python",
   "pygments_lexer": "ipython3",
   "version": "3.9.7"
  }
 },
 "nbformat": 4,
 "nbformat_minor": 5
}
