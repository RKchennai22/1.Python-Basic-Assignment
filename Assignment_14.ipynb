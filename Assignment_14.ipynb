{
 "cells": [
  {
   "cell_type": "markdown",
   "id": "5c0b5da1",
   "metadata": {},
   "source": [
    "# 1. What does RGBA stand for?"
   ]
  },
  {
   "cell_type": "markdown",
   "id": "b40245d3",
   "metadata": {},
   "source": [
    "Ans : Red-Green-Blue-Alpha"
   ]
  },
  {
   "cell_type": "markdown",
   "id": "3f137693",
   "metadata": {},
   "source": [
    "# 2. From the Pillow module, how do you get the RGBA value of any images?"
   ]
  },
  {
   "cell_type": "markdown",
   "id": "65caecbf",
   "metadata": {},
   "source": [
    "Ans : from PIL import ImageColor\n",
    "\n",
    "ImageColor.getcolor(color_name, 'RGBA')"
   ]
  },
  {
   "cell_type": "markdown",
   "id": "ba3e2f8a",
   "metadata": {},
   "source": [
    "# 3. What is a box tuple, and how does it work?"
   ]
  },
  {
   "cell_type": "markdown",
   "id": "8dc0d663",
   "metadata": {},
   "source": [
    "Ans : Many Pillow's function take box tuple argument. This means pillow is taking a tuple of four integer coordinates that expecting a rectangular region in image. The four integers are in order left, top, right, bottom."
   ]
  },
  {
   "cell_type": "markdown",
   "id": "466c48ce",
   "metadata": {},
   "source": [
    "# 4. Use your image and load in notebook then, How can you find out the width and height of an Image object?"
   ]
  },
  {
   "cell_type": "code",
   "execution_count": 17,
   "id": "ef78cdf1",
   "metadata": {},
   "outputs": [
    {
     "name": "stdout",
     "output_type": "stream",
     "text": [
      "width= 1000\n",
      "height= 560\n"
     ]
    }
   ],
   "source": [
    "from PIL import Image\n",
    "im=Image.open(\"nature.jpg\")\n",
    "width, height = im.size\n",
    "print(\"width=\", width)\n",
    "print(\"height=\", height)"
   ]
  },
  {
   "cell_type": "markdown",
   "id": "0239404a",
   "metadata": {},
   "source": [
    "# 5. What method would you call to get Image object for a 100×100 image, excluding the lower-left quarter of it?"
   ]
  },
  {
   "cell_type": "markdown",
   "id": "a5f1d37d",
   "metadata": {},
   "source": [
    "from PIL import Image\n",
    "\n",
    "Image.new('RGBA', (100,100))"
   ]
  },
  {
   "cell_type": "markdown",
   "id": "3d46544b",
   "metadata": {},
   "source": [
    "# 6. After making changes to an Image object, how could you save it as an image file?"
   ]
  },
  {
   "cell_type": "markdown",
   "id": "8393aa07",
   "metadata": {},
   "source": [
    "Ans : save(filename)"
   ]
  },
  {
   "cell_type": "markdown",
   "id": "cc7926f5",
   "metadata": {},
   "source": [
    "# 7. What module contains Pillow’s shape-drawing code?"
   ]
  },
  {
   "cell_type": "markdown",
   "id": "b9939d45",
   "metadata": {},
   "source": [
    "Ans :ImageDraw"
   ]
  },
  {
   "cell_type": "markdown",
   "id": "fb98614f",
   "metadata": {},
   "source": [
    "# 8. Image objects do not have drawing methods. What kind of object does? How do you get this kind of object?"
   ]
  },
  {
   "cell_type": "markdown",
   "id": "1c661d9b",
   "metadata": {},
   "source": [
    "Ans: wand.drawing.Drawing object has drawing methods.\n",
    "\n",
    "It can be got this way:\n",
    "\n",
    "from wand.drawing import Drawing"
   ]
  }
 ],
 "metadata": {
  "kernelspec": {
   "display_name": "Python 3 (ipykernel)",
   "language": "python",
   "name": "python3"
  },
  "language_info": {
   "codemirror_mode": {
    "name": "ipython",
    "version": 3
   },
   "file_extension": ".py",
   "mimetype": "text/x-python",
   "name": "python",
   "nbconvert_exporter": "python",
   "pygments_lexer": "ipython3",
   "version": "3.9.7"
  }
 },
 "nbformat": 4,
 "nbformat_minor": 5
}
