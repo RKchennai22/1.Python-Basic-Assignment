{
 "cells": [
  {
   "cell_type": "markdown",
   "id": "d2e22506",
   "metadata": {},
   "source": [
    "# 1. What exactly is []?"
   ]
  },
  {
   "cell_type": "markdown",
   "id": "3e85e598",
   "metadata": {},
   "source": [
    "[] is an empty list in Python"
   ]
  },
  {
   "cell_type": "markdown",
   "id": "4cca0993",
   "metadata": {},
   "source": [
    "# 2. In a list of values stored in a variable called spam, how would you assign the value 'hello' as the third value? (Assume [2, 4, 6, 8, 10] are in spam.)"
   ]
  },
  {
   "cell_type": "code",
   "execution_count": 7,
   "id": "b6964b9d",
   "metadata": {},
   "outputs": [
    {
     "name": "stdout",
     "output_type": "stream",
     "text": [
      "['a', 'b', 'c', 'd']\n",
      "['a', 'b', 'hello', 'c', 'd']\n"
     ]
    }
   ],
   "source": [
    "spam=['a','b','c','d']\n",
    "print(spam)\n",
    "spam.insert(2,'hello')\n",
    "print(spam)\n",
    "\n",
    "#Let's pretend the spam includes the list ['a', 'b', 'c', 'd'] for the next three queries."
   ]
  },
  {
   "cell_type": "markdown",
   "id": "950cdfac",
   "metadata": {},
   "source": [
    "# 3. What is the value of spam[int(int('3' * 2) / 11)]?"
   ]
  },
  {
   "cell_type": "markdown",
   "id": "5b947e08",
   "metadata": {},
   "source": [
    "Ans: c\n"
   ]
  },
  {
   "cell_type": "markdown",
   "id": "8bc816e3",
   "metadata": {},
   "source": [
    "# 4. What is the value of spam[-1]?"
   ]
  },
  {
   "cell_type": "markdown",
   "id": "c7590f8f",
   "metadata": {},
   "source": [
    "Ans : d"
   ]
  },
  {
   "cell_type": "markdown",
   "id": "ead3c351",
   "metadata": {},
   "source": [
    "# 5. What is the value of spam[:2]?"
   ]
  },
  {
   "cell_type": "markdown",
   "id": "3bee0b7d",
   "metadata": {},
   "source": [
    "Ans: ['a','b']\n",
    "\n",
    "Let's pretend bacon has the list [3.14, 'cat,' 11, 'cat,' True] for the next three questions"
   ]
  },
  {
   "cell_type": "markdown",
   "id": "8f14d679",
   "metadata": {},
   "source": [
    "# 6. What is the value of bacon.index('cat')?"
   ]
  },
  {
   "cell_type": "code",
   "execution_count": 21,
   "id": "3701c657",
   "metadata": {},
   "outputs": [
    {
     "data": {
      "text/plain": [
       "1"
      ]
     },
     "execution_count": 21,
     "metadata": {},
     "output_type": "execute_result"
    }
   ],
   "source": [
    "bacon=[3.14,'cat',11,'cat',True]\n",
    "bacon.index('cat')"
   ]
  },
  {
   "cell_type": "markdown",
   "id": "dd0e4c9b",
   "metadata": {},
   "source": [
    "Ans: 1 "
   ]
  },
  {
   "cell_type": "markdown",
   "id": "449cf4e4",
   "metadata": {},
   "source": [
    "# 7. How does bacon.append(99) change the look of the list value in bacon?"
   ]
  },
  {
   "cell_type": "markdown",
   "id": "e5b6c955",
   "metadata": {},
   "source": [
    "Ans: [3.14,'cat',11,'cat',True,99]"
   ]
  },
  {
   "cell_type": "markdown",
   "id": "602d80f6",
   "metadata": {},
   "source": [
    "# 8. How does bacon.remove('cat') change the look of the list in bacon?"
   ]
  },
  {
   "cell_type": "markdown",
   "id": "a26c0b9d",
   "metadata": {},
   "source": [
    "Ans : [3.14,11,'cat',True,99]"
   ]
  },
  {
   "cell_type": "markdown",
   "id": "df412a31",
   "metadata": {},
   "source": [
    "# 9. What are the list concatenation and list replication operators?"
   ]
  },
  {
   "cell_type": "markdown",
   "id": "70c4a4b7",
   "metadata": {},
   "source": [
    "List concatenation operator is ‘+’ while list replication operator is ‘*’"
   ]
  },
  {
   "cell_type": "markdown",
   "id": "f280a479",
   "metadata": {},
   "source": [
    "# 10. What is difference between the list methods append() and insert()?"
   ]
  },
  {
   "cell_type": "markdown",
   "id": "2d8afa45",
   "metadata": {},
   "source": [
    "Append method appends the given object to the end of the list always. Insert method accepts two arguments, index at which the element needs to be inserted and the object to insert. Insert needs the user to pass the location at which they want to insert the element into the list, while append does not provide a choice."
   ]
  },
  {
   "cell_type": "markdown",
   "id": "ae57cf53",
   "metadata": {},
   "source": [
    "# 11. What are the two methods for removing items from a list?"
   ]
  },
  {
   "cell_type": "markdown",
   "id": "2a1a0d88",
   "metadata": {},
   "source": [
    "Ans : Two methods for removing items from a list is remove and pop."
   ]
  },
  {
   "cell_type": "markdown",
   "id": "ec5e2b94",
   "metadata": {},
   "source": [
    "# 12. Describe how list values and string values are identical."
   ]
  },
  {
   "cell_type": "markdown",
   "id": "cb90a85b",
   "metadata": {},
   "source": [
    "Ans : list is a collection of values in Python, string is a collection of characters. Both list and strings are iterable"
   ]
  },
  {
   "cell_type": "markdown",
   "id": "60ff5589",
   "metadata": {},
   "source": [
    "# 13. What's the difference between tuples and lists?"
   ]
  },
  {
   "cell_type": "markdown",
   "id": "d569e76e",
   "metadata": {},
   "source": [
    "Ans : tuples are immutable and items inside the tuple can't change whereas list is a mutable , we can change the items inside the list."
   ]
  },
  {
   "cell_type": "markdown",
   "id": "092cb8d1",
   "metadata": {},
   "source": [
    "# 14. How do you type a tuple value that only contains the integer 42?"
   ]
  },
  {
   "cell_type": "code",
   "execution_count": 37,
   "id": "497885f0",
   "metadata": {},
   "outputs": [
    {
     "name": "stdout",
     "output_type": "stream",
     "text": [
      "(42,)\n",
      "<class 'tuple'>\n"
     ]
    }
   ],
   "source": [
    "tuple=(42,)\n",
    "print(tuple)\n",
    "print(type(tuple))"
   ]
  },
  {
   "cell_type": "markdown",
   "id": "8ddd23e1",
   "metadata": {},
   "source": [
    "# 15. How do you get a list value's tuple form? How do you get a tuple value's list form?"
   ]
  },
  {
   "cell_type": "code",
   "execution_count": 65,
   "id": "1e577ef9",
   "metadata": {},
   "outputs": [
    {
     "name": "stdout",
     "output_type": "stream",
     "text": [
      "<class 'tuple'>\n",
      "<class 'list'> [3.14, 'cat', 11, 'cat', True]\n",
      "<class 'tuple'> ([3.14, 'cat', 11, 'cat', True],)\n"
     ]
    }
   ],
   "source": [
    "bacon=(3.14,'cat',11,'cat',True)\n",
    "print(type(bacon))\n",
    "\n",
    "list_change=list(bacon)\n",
    "print(type(list_change),list_change)\n",
    "\n",
    "tuple1=(list_change,)\n",
    "print(type(tuple1),tuple1)"
   ]
  },
  {
   "cell_type": "markdown",
   "id": "6583421d",
   "metadata": {},
   "source": [
    "# 16. Variables that \"contain\" list values are not necessarily lists themselves. Instead, what do they contain"
   ]
  },
  {
   "cell_type": "markdown",
   "id": "b5ff3df0",
   "metadata": {},
   "source": [
    "They contain references to the list values"
   ]
  },
  {
   "cell_type": "markdown",
   "id": "8885b73f",
   "metadata": {},
   "source": [
    "# 17. How do you distinguish between copy.copy() and copy.deepcopy()?"
   ]
  },
  {
   "cell_type": "markdown",
   "id": "dd3dc38d",
   "metadata": {},
   "source": [
    "copy.copy() function will do a shallow copy whereas copy.deepcopy() will copy and duplicate the reference also "
   ]
  },
  {
   "cell_type": "code",
   "execution_count": 86,
   "id": "38c3c59d",
   "metadata": {},
   "outputs": [
    {
     "name": "stdout",
     "output_type": "stream",
     "text": [
      "[[1, 2, 3, 4], [500, 6, 7, 8]]\n",
      "[[1, 2, 3, 4], [500, 6, 7, 8]] \n",
      "\n",
      "[[1, 2, 3, 4], [500, 6, 7, 8]]\n",
      "[[1, 2, 3, 4], [5, 6, 7, 8]]\n"
     ]
    }
   ],
   "source": [
    "#shallow copy copy.copy()\n",
    "list1=[[1,2,3,4],[5,6,7,8]]\n",
    "list2=list1.copy()\n",
    "\n",
    "list2[1][0]=500\n",
    "print(list2)\n",
    "print(list1,\"\\n\")\n",
    "\n",
    "#deep copy \n",
    "import copy\n",
    "\n",
    "list3=[[1,2,3,4],[5,6,7,8]]\n",
    "\n",
    "list4 =copy.deepcopy(list3)\n",
    "\n",
    "list4[1][0]=500\n",
    "\n",
    "print(list4)\n",
    "print(list3)\n"
   ]
  }
 ],
 "metadata": {
  "kernelspec": {
   "display_name": "Python 3 (ipykernel)",
   "language": "python",
   "name": "python3"
  },
  "language_info": {
   "codemirror_mode": {
    "name": "ipython",
    "version": 3
   },
   "file_extension": ".py",
   "mimetype": "text/x-python",
   "name": "python",
   "nbconvert_exporter": "python",
   "pygments_lexer": "ipython3",
   "version": "3.9.7"
  }
 },
 "nbformat": 4,
 "nbformat_minor": 5
}
