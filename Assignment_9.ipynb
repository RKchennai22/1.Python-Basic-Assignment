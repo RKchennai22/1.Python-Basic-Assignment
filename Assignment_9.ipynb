{
 "cells": [
  {
   "cell_type": "markdown",
   "id": "919b4b1a",
   "metadata": {},
   "source": [
    "# 1. To what does a relative path refer?"
   ]
  },
  {
   "cell_type": "markdown",
   "id": "60f2cf03",
   "metadata": {},
   "source": [
    "Ans : A relative path that depicts the location of a file or folder is relative to the current working directory. Unlike absolute paths, relative paths contain information that is only relative to the current document within the same website, which avoids the need to provide a full absolute path"
   ]
  },
  {
   "cell_type": "markdown",
   "id": "4b64c284",
   "metadata": {},
   "source": [
    "# 2. What does an absolute path start with your operating system?"
   ]
  },
  {
   "cell_type": "markdown",
   "id": "d2b50dae",
   "metadata": {},
   "source": [
    "Ans : It will starts from default os path as C:\\"
   ]
  },
  {
   "cell_type": "markdown",
   "id": "3f090fcc",
   "metadata": {},
   "source": [
    "# 3. What do the functions os.getcwd() and os.chdir() do?"
   ]
  },
  {
   "cell_type": "markdown",
   "id": "70f7ba78",
   "metadata": {},
   "source": [
    "Ans :\n",
    "os.getcwd()` returns you the current working directory path\n",
    "os.chdir()` is used to change the current working directory while running the program"
   ]
  },
  {
   "cell_type": "markdown",
   "id": "ee0adaee",
   "metadata": {},
   "source": [
    "# 4. What are the . and .. folders?"
   ]
  },
  {
   "cell_type": "code",
   "execution_count": null,
   "id": "2763512a",
   "metadata": {},
   "outputs": [],
   "source": [
    "'.` single dot refers the current folder\n",
    " `..` double dot refers the parent folder"
   ]
  },
  {
   "cell_type": "markdown",
   "id": "9b6516e3",
   "metadata": {},
   "source": [
    "# 5. In C:\\bacon\\eggs\\spam.txt, which part is the dir name, and which part is the base name?"
   ]
  },
  {
   "cell_type": "markdown",
   "id": "50758902",
   "metadata": {},
   "source": [
    "Ans : C:\\bacon\\eggs` is the `dir` name and `spam.txt` is the base name"
   ]
  },
  {
   "cell_type": "markdown",
   "id": "7229a443",
   "metadata": {},
   "source": [
    "# 6. What are the three “mode” arguments that can be passed to the open() function?"
   ]
  },
  {
   "cell_type": "markdown",
   "id": "46551264",
   "metadata": {},
   "source": [
    "Ans :\n",
    "    The three `mode` arguments that can be passed to the `open()` function are:\n",
    "\n",
    "1.`'r'` for read mode\n",
    "2. `'w'` for write mode\n",
    "3. `'a'` for append mode."
   ]
  },
  {
   "cell_type": "markdown",
   "id": "6afdd283",
   "metadata": {},
   "source": [
    "# 7. What happens if an existing file is opened in write mode?"
   ]
  },
  {
   "cell_type": "markdown",
   "id": "748cf757",
   "metadata": {},
   "source": [
    "Ans: when 'w' is specified then it will treat as a new empty file. If we open a existing file with write mode then It will overwrites the existing file and starts from scratch"
   ]
  },
  {
   "cell_type": "markdown",
   "id": "e40b1f9a",
   "metadata": {},
   "source": [
    "# 8. How do you tell the difference between read() and readlines()?"
   ]
  },
  {
   "cell_type": "markdown",
   "id": "d4f322d2",
   "metadata": {},
   "source": [
    "Ans : The `read()` method returns the file’s entire contents as a single string value. The `readlines()` method returns a list of strings, where each string is a line from the file’s contents."
   ]
  },
  {
   "cell_type": "markdown",
   "id": "e894d10e",
   "metadata": {},
   "source": [
    "# 9. What data structure does a shelf value resemble?"
   ]
  },
  {
   "cell_type": "markdown",
   "id": "e739de1b",
   "metadata": {},
   "source": [
    "Ans : A shelf value resembles a dictionary value, it has keys and values, along with keys() and values() methods that work similarly to the dictionary methods of the same names."
   ]
  }
 ],
 "metadata": {
  "kernelspec": {
   "display_name": "Python 3 (ipykernel)",
   "language": "python",
   "name": "python3"
  },
  "language_info": {
   "codemirror_mode": {
    "name": "ipython",
    "version": 3
   },
   "file_extension": ".py",
   "mimetype": "text/x-python",
   "name": "python",
   "nbconvert_exporter": "python",
   "pygments_lexer": "ipython3",
   "version": "3.9.7"
  }
 },
 "nbformat": 4,
 "nbformat_minor": 5
}
