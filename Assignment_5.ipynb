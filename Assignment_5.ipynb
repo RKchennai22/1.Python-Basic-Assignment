{
 "cells": [
  {
   "cell_type": "markdown",
   "id": "bd8c24d7",
   "metadata": {},
   "source": [
    "# 1. What does an empty dictionary's code look like?"
   ]
  },
  {
   "cell_type": "markdown",
   "id": "58b0eb85",
   "metadata": {},
   "source": [
    "Ans : {}"
   ]
  },
  {
   "cell_type": "markdown",
   "id": "09f7c2e4",
   "metadata": {},
   "source": [
    "# 2. What is the value of a dictionary value with the key 'foo' and the value 42?"
   ]
  },
  {
   "cell_type": "code",
   "execution_count": 3,
   "id": "bd0286d6",
   "metadata": {},
   "outputs": [],
   "source": [
    "Ans: {'foo': 42}"
   ]
  },
  {
   "cell_type": "markdown",
   "id": "336bacf7",
   "metadata": {},
   "source": [
    "# 3. What is the most significant distinction between a dictionary and a list?"
   ]
  },
  {
   "cell_type": "markdown",
   "id": "a844d7fc",
   "metadata": {},
   "source": [
    "The items stored in a dictionary are unordered, while the items in a list are ordered."
   ]
  },
  {
   "cell_type": "markdown",
   "id": "a0c8be23",
   "metadata": {},
   "source": [
    "# 4. What happens if you try to access spam['foo'] if spam is {'bar': 100}?"
   ]
  },
  {
   "cell_type": "code",
   "execution_count": 7,
   "id": "54ce8dd2",
   "metadata": {},
   "outputs": [
    {
     "ename": "KeyError",
     "evalue": "'foo'",
     "output_type": "error",
     "traceback": [
      "\u001b[1;31m---------------------------------------------------------------------------\u001b[0m",
      "\u001b[1;31mKeyError\u001b[0m                                  Traceback (most recent call last)",
      "\u001b[1;32m~\\AppData\\Local\\Temp/ipykernel_9512/3313634846.py\u001b[0m in \u001b[0;36m<module>\u001b[1;34m\u001b[0m\n\u001b[0;32m      1\u001b[0m \u001b[0mspam\u001b[0m\u001b[1;33m=\u001b[0m\u001b[1;33m{\u001b[0m\u001b[1;34m'bar'\u001b[0m\u001b[1;33m:\u001b[0m\u001b[1;36m100\u001b[0m\u001b[1;33m}\u001b[0m\u001b[1;33m\u001b[0m\u001b[1;33m\u001b[0m\u001b[0m\n\u001b[1;32m----> 2\u001b[1;33m \u001b[0mspam\u001b[0m\u001b[1;33m[\u001b[0m\u001b[1;34m'foo'\u001b[0m\u001b[1;33m]\u001b[0m\u001b[1;33m\u001b[0m\u001b[1;33m\u001b[0m\u001b[0m\n\u001b[0m\u001b[0;32m      3\u001b[0m \u001b[1;33m\u001b[0m\u001b[0m\n\u001b[0;32m      4\u001b[0m \u001b[1;31m#Exception of type `KeyError` occurs as the key `foo` is not available in the dictionary spam\u001b[0m\u001b[1;33m\u001b[0m\u001b[1;33m\u001b[0m\u001b[0m\n",
      "\u001b[1;31mKeyError\u001b[0m: 'foo'"
     ]
    }
   ],
   "source": [
    "spam={'bar':100}\n",
    "spam['foo']\n",
    "\n",
    "#Exception of type `KeyError` occurs as the key `foo` is not available in the dictionary spam"
   ]
  },
  {
   "cell_type": "markdown",
   "id": "d21c866e",
   "metadata": {},
   "source": [
    "# 5. If a dictionary is stored in spam, what is the difference between the expressions 'cat' in spam and 'cat' in spam.keys()?"
   ]
  },
  {
   "cell_type": "markdown",
   "id": "631f0913",
   "metadata": {},
   "source": [
    "There is no difference. The in operator checks whether a value exists as a key in the dictionary"
   ]
  },
  {
   "cell_type": "markdown",
   "id": "1e242413",
   "metadata": {},
   "source": [
    "# 6. If a dictionary is stored in spam, what is the difference between the expressions 'cat' in spam and 'cat' in spam.values()?"
   ]
  },
  {
   "cell_type": "markdown",
   "id": "0e1ffe47",
   "metadata": {},
   "source": [
    "'cat' in spam` looks for the string `cat` in the `spam` dictionary keys .whereas 'cat' in spam.values()` will look for the string `cat` in the values of the dictionary `spam`."
   ]
  },
  {
   "cell_type": "markdown",
   "id": "d26bcd67",
   "metadata": {},
   "source": [
    "# 7. What is a shortcut for the following code?\n",
    "if 'color' not in spam:\n",
    "spam['color'] = 'black'\n"
   ]
  },
  {
   "cell_type": "markdown",
   "id": "941fb8f6",
   "metadata": {},
   "source": [
    "Ans : spam.setdefault('color', 'black')"
   ]
  },
  {
   "cell_type": "markdown",
   "id": "ae28ef95",
   "metadata": {},
   "source": [
    "# 8. How do you \"pretty print\" dictionary values using which module and function?"
   ]
  },
  {
   "cell_type": "markdown",
   "id": "b2963934",
   "metadata": {},
   "source": [
    "Ans : pprint.pprint()"
   ]
  }
 ],
 "metadata": {
  "kernelspec": {
   "display_name": "Python 3 (ipykernel)",
   "language": "python",
   "name": "python3"
  },
  "language_info": {
   "codemirror_mode": {
    "name": "ipython",
    "version": 3
   },
   "file_extension": ".py",
   "mimetype": "text/x-python",
   "name": "python",
   "nbconvert_exporter": "python",
   "pygments_lexer": "ipython3",
   "version": "3.9.7"
  }
 },
 "nbformat": 4,
 "nbformat_minor": 5
}
